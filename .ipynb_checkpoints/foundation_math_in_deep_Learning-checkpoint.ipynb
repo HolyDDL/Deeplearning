{
 "cells": [
  {
   "cell_type": "markdown",
   "id": "547e9a79",
   "metadata": {},
   "source": [
    "# DEEP LEARNING"
   ]
  },
  {
   "cell_type": "markdown",
   "id": "60ca4f16",
   "metadata": {},
   "source": [
    "## Linear Algebra"
   ]
  },
  {
   "cell_type": "markdown",
   "id": "c6068275",
   "metadata": {},
   "source": [
    "### singular value decomposition奇异值分解,SVD"
   ]
  },
  {
   "cell_type": "markdown",
   "id": "ee6d77b3",
   "metadata": {},
   "source": [
    "$ A$是一个$m \\times n$的矩阵, 其可以分解为\n",
    "$$ A = U D V^T$$\n",
    "其中, $U$是一个$m \\times m$的矩阵, $D$是一个$m \\times n$的矩阵. $V$是一个$n \\times n$的矩阵. \n",
    "\n",
    "$D$定义为对角矩阵(不一定是方阵), 对角线上的元素称为$\\textbf{奇异值}$, $U$的列向量称作$\\textbf{左奇异向量}$, $V$的列向量称作$\\textbf{右奇异向量}$"
   ]
  },
  {
   "cell_type": "markdown",
   "id": "d4f7d86c",
   "metadata": {},
   "source": [
    "$A$的左奇异向量是$AA^T$的特征向量, 右奇异向量是$A^TA$的特征向量. 非零特征值是$A^TA$或$AA^T$的特征值的平方根"
   ]
  },
  {
   "cell_type": "markdown",
   "id": "eeeb4ce6",
   "metadata": {},
   "source": [
    "### Moore-Penrose Pseudoinver伪逆"
   ]
  },
  {
   "cell_type": "markdown",
   "id": "d7f58a57",
   "metadata": {},
   "source": [
    "$$Ax = y$$左逆为$B$满足$$x = By$$"
   ]
  },
  {
   "cell_type": "markdown",
   "id": "5ea095db",
   "metadata": {},
   "source": [
    "伪逆$A^+$的定义:\n",
    "$$A^+ = \\lim_{\\alpha \\to 0} (A^TA + \\alpha I)^{-1}A^T$$"
   ]
  },
  {
   "cell_type": "markdown",
   "id": "567db4ee",
   "metadata": {},
   "source": [
    "计算伪逆$A^+$:\n",
    "$$A^+ = VD^+U^T$$\n",
    "$UT$是$A$的左右奇异分解矩阵, $D^+$是对角矩阵的伪逆, 即对非零对角线元素全部变为倒数且对矩阵进行转置"
   ]
  },
  {
   "cell_type": "markdown",
   "id": "d129ff52",
   "metadata": {},
   "source": [
    "---"
   ]
  },
  {
   "cell_type": "markdown",
   "id": "c682fad5",
   "metadata": {},
   "source": [
    "## Probability Theory & Information Theory"
   ]
  },
  {
   "cell_type": "markdown",
   "id": "e2d218f8",
   "metadata": {},
   "source": [
    "* 离散型变量和概率质量函数(probability mass function PMF)"
   ]
  },
  {
   "cell_type": "markdown",
   "id": "618ed107",
   "metadata": {},
   "source": [
    "每个离散的变量都有一个完全不同的PMF, 需要依据不同的随机变量来选取PMF例如$P($x$)$和$P($y$)$表示的PMF是完全不同的\n",
    "\n",
    "随机变量x 的取值$x$为0\\~1. 随机变量x服从PMF写作 x\\~$P($x$)$"
   ]
  },
  {
   "cell_type": "markdown",
   "id": "971d7c9e",
   "metadata": {},
   "source": [
    "多个随机变量x, y同时服从于一个PMF称作联合概率分布(joint probability distribution)$P($x$ = x,$ y$ = y)$表示x,y在$x$, $y$取值下的概率. \n",
    "简记为$P(x,y)$"
   ]
  },
  {
   "cell_type": "markdown",
   "id": "f65201b5",
   "metadata": {},
   "source": [
    "$P$是x的PMF满足:\n",
    ">* $P$的定义域是x所有可能取值的集合\n",
    ">* $\\forall x \\in$x,$0 \\le P(x) \\le 1$\n",
    ">* 若$\\sum_{x \\in X} P(x) = 1$. 称作是归一化的(normalized), 如果没有, 则计算某一取值时概率可能大于1"
   ]
  },
  {
   "cell_type": "markdown",
   "id": "651312e6",
   "metadata": {},
   "source": [
    "* 连续型变量和概率密度函数(probability density function PDF)"
   ]
  },
  {
   "cell_type": "markdown",
   "id": "826eb29f",
   "metadata": {},
   "source": [
    "$p$是x的PDF满足:\n",
    ">* $p$定义域是x所有可能取值的集合\n",
    ">* $\\forall x \\in$x,$p(x) \\ge 0$但不要求$p(x) \\le 1$\n",
    ">* $\\int p(x)dx = 1$"
   ]
  },
  {
   "cell_type": "markdown",
   "id": "4e61a7be",
   "metadata": {},
   "source": [
    "$p(x)$给出了落在面积为$\\delta x$的无限小区域的概率$p(x)\\delta x$, \n",
    "\n",
    "$p(x)$在某一区间内$[a,b]$的概率可以通过积分得出$\\int_{[a,b]}p(x)dx$"
   ]
  },
  {
   "cell_type": "markdown",
   "id": "627cb69f",
   "metadata": {},
   "source": [
    " * 边缘概率(marginal probability)"
   ]
  },
  {
   "cell_type": "markdown",
   "id": "f81fdbb1",
   "metadata": {},
   "source": [
    "计算组合概率分布下的各个分量的概率\n",
    "\n",
    "离散型:\n",
    "\n",
    "求$P(x)$:\n",
    "$$P(x) = \\sum_y P(x,y)$$\n",
    "\n",
    "连续型:\n",
    "\n",
    "求$p(x)$:\n",
    "$$p(x) = \\int p(x,y)dy$$"
   ]
  },
  {
   "cell_type": "markdown",
   "id": "2f9ae0f3",
   "metadata": {},
   "source": [
    "* 条件概率(conditional probability)"
   ]
  },
  {
   "cell_type": "markdown",
   "id": "4bf07bad",
   "metadata": {},
   "source": [
    "组合概率中某一事件在其他事件发生的情况下发生的概率例如$X = x, Y = y$在$X = x$发生下的概率\n",
    "$$P(X = x|Y = y) = \\frac{P(X=x,Y=y)}{P(X = x)}$$\n",
    "只在$P(X= x) >0$有意义"
   ]
  },
  {
   "cell_type": "markdown",
   "id": "57a4ab56",
   "metadata": {},
   "source": [
    "* 条件概率的链式法则"
   ]
  },
  {
   "cell_type": "markdown",
   "id": "396b799d",
   "metadata": {},
   "source": [
    "任何多维联合概率分布, 都可以分解为一个变量的条件概率相乘的形式:\n",
    "$$P(x^1, x^2, \\cdots ,x^n) = P(x^1)\\prod_{i = 2}^{n} P(x^i | x^1, \\cdots ,x^{(i-1)})$$"
   ]
  },
  {
   "cell_type": "markdown",
   "id": "3ef959bc",
   "metadata": {},
   "source": [
    "---\n"
   ]
  },
  {
   "cell_type": "markdown",
   "id": "8c4cef80",
   "metadata": {},
   "source": [
    "## Maximum likelihood"
   ]
  },
  {
   "cell_type": "markdown",
   "id": "c22b8eb6",
   "metadata": {},
   "source": [
    "* 似然"
   ]
  },
  {
   "cell_type": "markdown",
   "id": "1babec3d",
   "metadata": {},
   "source": [
    "与概率不同, 似然是已知事件结果来反推事件发生时的条件"
   ]
  },
  {
   "cell_type": "markdown",
   "id": "473a5299",
   "metadata": {},
   "source": [
    "随机变量$X$ 在$\\theta $约束条件下, 生成$x$的概率记为$p(x|\\theta)$"
   ]
  },
  {
   "cell_type": "markdown",
   "id": "2fa897c3",
   "metadata": {},
   "source": [
    "似然性（likelihood）与概率（possibility）同样可以表示事件发生的可能性大小，但是二者有着很大的区别：\n",
    "\n",
    "概率$p(x|\\theta)$  是在已知参数 $\\theta $ 的情况下，发生观测结果 $x$ 可能性大小；\n",
    "似然性$L(\\theta |x)$  则是从观测结果 $x$ 出发，分布函数的参数为 $\\theta $ 的可能性大小；"
   ]
  },
  {
   "cell_type": "markdown",
   "id": "acd38e53",
   "metadata": {},
   "source": [
    "在结果和条件相关联情况下\n",
    "$$p(x|\\theta ) = L(\\theta |x)$$"
   ]
  },
  {
   "cell_type": "markdown",
   "id": "4842486c",
   "metadata": {},
   "source": [
    "若在$x$已知的情况下, 对于两个不同的条件$\\theta_1$ 和$\\theta_2$, 有\n",
    "$$L(\\theta_1|x) = p(x|\\theta_1)>L(\\theta_2|x) = p(x|\\theta_2)$$\n",
    "则$x$在条件$\\theta_1$情况下发生的概率要高于$\\theta_2$的"
   ]
  },
  {
   "cell_type": "markdown",
   "id": "ea7bddd5",
   "metadata": {},
   "source": [
    "即似然是$x$为定值的, 关于$\\theta$的函数"
   ]
  },
  {
   "cell_type": "markdown",
   "id": "98fe041e",
   "metadata": {},
   "source": [
    "* 最大似然"
   ]
  },
  {
   "cell_type": "markdown",
   "id": "11b5e8f4",
   "metadata": {},
   "source": [
    "对于给定的观测数据$x$, 需要从所有的参数$\\theta_1, \\theta_2, \\cdots ,\\theta_n$中找到使似然函数最大, (事件发生概率最大)的条件$\\theta^*$\n",
    "$$\\theta^* = \\arg \\max_{\\theta}p(x|\\theta)$$"
   ]
  },
  {
   "cell_type": "markdown",
   "id": "1b4f5cf4",
   "metadata": {},
   "source": [
    "对于求解此函数, 使用偏导数为零求解."
   ]
  },
  {
   "cell_type": "markdown",
   "id": "ec8e8936",
   "metadata": {},
   "source": [
    "对于一组含有$m$个样本的离散型随机变量数据集$\\mathbb{X} = \\{x_1,x_2, \\cdots ,x_m\\}$, 其中每一个$x_k$均是在此样本所有可能取值集合$X$空间的一个分量.且每一个$x_k$的概率$p_k(x_k|\\theta)$是独立的. 则对于此, 似然函数是联合分布函数\n",
    "$$L(\\theta|x) = \\prod_{k=1}^n p_k(x_k|\\theta)$$"
   ]
  },
  {
   "cell_type": "markdown",
   "id": "65f6b301",
   "metadata": {},
   "source": [
    "求在此情况下的最大似然条件$\\theta^*$是求解此函数偏导数为零, 为了简化运算, 在上式两侧同取对数. 则将乘积形式化作加和形式. 便于求导\n",
    "$$\\log L = \\sum_{k=1}^n \\log {p_k(x_k|\\theta)}$$"
   ]
  },
  {
   "cell_type": "code",
   "execution_count": null,
   "id": "c3273bae",
   "metadata": {},
   "outputs": [],
   "source": []
  }
 ],
 "metadata": {
  "kernelspec": {
   "display_name": "Python 3 (ipykernel)",
   "language": "python",
   "name": "python3"
  },
  "language_info": {
   "codemirror_mode": {
    "name": "ipython",
    "version": 3
   },
   "file_extension": ".py",
   "mimetype": "text/x-python",
   "name": "python",
   "nbconvert_exporter": "python",
   "pygments_lexer": "ipython3",
   "version": "3.9.2"
  }
 },
 "nbformat": 4,
 "nbformat_minor": 5
}
