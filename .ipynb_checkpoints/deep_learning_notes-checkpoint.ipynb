{
 "cells": [
  {
   "cell_type": "markdown",
   "id": "0ff7f789",
   "metadata": {},
   "source": [
    "# DEEP LEARNING\n"
   ]
  },
  {
   "cell_type": "markdown",
   "id": "7d480bef",
   "metadata": {},
   "source": [
    "## Normal Equation"
   ]
  },
  {
   "cell_type": "markdown",
   "id": "d8920914",
   "metadata": {},
   "source": [
    "正规方程指对于损失函数$E = E(\\vec {\\hat y},\\vec y)$, 其中$\\vec {\\hat y} = \\vec f(\\vec w,X)$为预测函数. $\\vec y$为标签值. 利用向量函数梯度为零, 反解出$\\vec w$"
   ]
  },
  {
   "cell_type": "markdown",
   "id": "4e1b233b",
   "metadata": {},
   "source": [
    " *求解如下:*\n"
   ]
  },
  {
   "cell_type": "markdown",
   "id": "5c3d796f",
   "metadata": {},
   "source": [
    "$$\\frac{\\partial E}{\\partial \\vec w} = \\frac{\\partial E}{\\partial \\vec{\\hat y}} \\frac{\\partial \\vec{\\hat y}}{\\partial \\vec w} = 0$$"
   ]
  },
  {
   "cell_type": "markdown",
   "id": "02987d34",
   "metadata": {},
   "source": [
    "如果能显式的求得$\\vec w = \\vec g(X, \\vec y)$, 则这样的$\\vec w$称作正规方程. 此处的$X$为设计矩阵."
   ]
  },
  {
   "cell_type": "markdown",
   "id": "3c31b983",
   "metadata": {},
   "source": [
    "表示数据集的常用方法是 设计矩阵（design matrix）. 设计矩阵的每一行包含\n",
    "一个不同的样本, 每一列对应不同的特征."
   ]
  },
  {
   "cell_type": "markdown",
   "id": "14ae7e0a",
   "metadata": {},
   "source": [
    "***Instance***"
   ]
  },
  {
   "cell_type": "markdown",
   "id": "42c2d946",
   "metadata": {},
   "source": [
    "对于每一个样本, 样本属性空间是n维的, 即$\\vec x \\in \\mathbb{R}^n$, 则属性权重$\\vec w \\in \\mathbb{R}^n$, 预测值为标量$\\hat y$, 则有\n",
    "$$\\hat y = (\\vec w^T)_{1\\times n} \\cdot \\vec {x}_{n\\times 1} = (\\vec x^T)_{1\\times n}\\cdot \\vec w_{n\\times 1}$$"
   ]
  },
  {
   "cell_type": "markdown",
   "id": "adf1b3b6",
   "metadata": {},
   "source": [
    "m个样本有\n",
    "$$\\hat y_1 =(\\vec x_1^T)_{1\\times n}\\cdot \\vec w_{n\\times 1} \\\\\n",
    "\\hat y_2 = (\\vec x_2^T)_{1\\times n}\\cdot \\vec w_{n\\times 1}\\\\\n",
    "\\vdots \\\\\n",
    "\\hat y_m = (\\vec x_m^T)_{1\\times n}\\cdot \\vec w_{n\\times 1}$$"
   ]
  },
  {
   "cell_type": "markdown",
   "id": "51eead13",
   "metadata": {},
   "source": [
    "整合为\n",
    "$$\\vec {\\hat y}_{m\\times 1} = X_{m\\times n} \\cdot \\vec w_{n \\times 1}$$"
   ]
  },
  {
   "cell_type": "markdown",
   "id": "a7f209a8",
   "metadata": {},
   "source": [
    "$X$为设计矩阵, 考虑到bias的影响, 可使样本属性空间$\\vec x$变成n+1维$\\mathbb{R}^{n+1}$, 增加的维度属性分量始终为1, $\\vec w$同样扩展一维."
   ]
  },
  {
   "cell_type": "markdown",
   "id": "c2718492",
   "metadata": {},
   "source": [
    "藉此, 可求解正规方程. 设损失函数为$$MSE = \\frac{1}{m}(\\vec{\\hat y} - \\vec y)^2$$"
   ]
  },
  {
   "cell_type": "markdown",
   "id": "79eab62d",
   "metadata": {},
   "source": [
    "$$\n",
    "\\begin{aligned}\n",
    "MSE &= \\frac{1}{m}(\\vec{\\hat y} - \\vec y)^2\\\\\n",
    " &= \\frac{1}{m}(X\\vec w - \\vec y)^2 \\\\\n",
    " &= \\frac{1}{m}(X\\vec w - \\vec y)^T(X\\vec w- \\vec y)\\\\\n",
    " &= \\vec w^TX^TX\\vec w - 2(X\\vec w)^T\\vec y + \\vec y^T\\vec y\n",
    " \\end{aligned}\n",
    " $$"
   ]
  },
  {
   "cell_type": "markdown",
   "id": "c984bc42",
   "metadata": {},
   "source": [
    "对$\\vec w$求偏导并令之为零有\n",
    "$$\n",
    "2X^TX\\vec w - 2X^T\\vec y = 0\n",
    "$$\n",
    "解得\n",
    "$$\\vec w = (X^TX)^{-1}X^T\\vec y$$\n",
    "则此时$\\vec w的表达式即为正规方程$"
   ]
  },
  {
   "cell_type": "code",
   "execution_count": null,
   "id": "4a7cbff1",
   "metadata": {},
   "outputs": [],
   "source": []
  }
 ],
 "metadata": {
  "kernelspec": {
   "display_name": "Python 3 (ipykernel)",
   "language": "python",
   "name": "python3"
  },
  "language_info": {
   "codemirror_mode": {
    "name": "ipython",
    "version": 3
   },
   "file_extension": ".py",
   "mimetype": "text/x-python",
   "name": "python",
   "nbconvert_exporter": "python",
   "pygments_lexer": "ipython3",
   "version": "3.9.2"
  }
 },
 "nbformat": 4,
 "nbformat_minor": 5
}
